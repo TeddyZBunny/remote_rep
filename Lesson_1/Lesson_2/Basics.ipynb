{
 "cells": [
  {
   "cell_type": "markdown",
   "id": "1b475410",
   "metadata": {},
   "source": [
    "    Операторы\n",
    "1. Арифметические\n",
    "2. Сравнительные \n",
    "3. Присваиваемые a=3\n",
    "4. Логические or  and  \n",
    "5. Битовые    |    &\n",
    "6. Принадлежности 'e' in 'hello'\n",
    "7. Идентичности \n",
    "a='asdgfa'\n",
    "b=a\n",
    "print(a is b) → true\n",
    "\n",
    "ipython позволяет сразу исполнять написанный код"
   ]
  },
  {
   "cell_type": "code",
   "execution_count": 1,
   "id": "201c3cd6",
   "metadata": {},
   "outputs": [
    {
     "name": "stdout",
     "output_type": "stream",
     "text": [
      "True\n"
     ]
    }
   ],
   "source": [
    "print('e' in 'hello')\n"
   ]
  }
 ],
 "metadata": {
  "kernelspec": {
   "display_name": "Python 3",
   "language": "python",
   "name": "python3"
  },
  "language_info": {
   "codemirror_mode": {
    "name": "ipython",
    "version": 3
   },
   "file_extension": ".py",
   "mimetype": "text/x-python",
   "name": "python",
   "nbconvert_exporter": "python",
   "pygments_lexer": "ipython3",
   "version": "3.13.0"
  }
 },
 "nbformat": 4,
 "nbformat_minor": 5
}
