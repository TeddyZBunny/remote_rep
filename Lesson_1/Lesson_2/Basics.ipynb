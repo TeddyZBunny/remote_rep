{
 "cells": [
  {
   "cell_type": "markdown",
   "id": "1b475410",
   "metadata": {},
   "source": [
    "    Операторы\n",
    "1. Арифметические\n",
    "2. Сравнительные  \n",
    "3. Присваиваемые a=3\n",
    "4. Логические or  and  \n",
    "5. Битовые    |    &\n",
    "6. Принадлежности 'e' in 'hello'\n",
    "7. Идентичности a==3\n",
    "a='asdgfa'\n",
    "b=a\n",
    "print(a is b) → true\n",
    "\n",
    "ipython позволяет сразу исполнять написанный код"
   ]
  },
  {
   "cell_type": "markdown",
   "id": "efa03874",
   "metadata": {},
   "source": [
    "3. Составные присваиватели\n",
    "a=1\n",
    "1=a+1\n",
    "print(a)\n",
    "a++"
   ]
  },
  {
   "cell_type": "code",
   "execution_count": 51,
   "id": "6b569d2a",
   "metadata": {},
   "outputs": [
    {
     "name": "stdout",
     "output_type": "stream",
     "text": [
      "3\n",
      "6\n",
      "4\n",
      "16\n",
      "8.0\n",
      "2.0\n",
      "0.5\n",
      "text new \n",
      "text new text new text new \n"
     ]
    }
   ],
   "source": [
    "#3. Составные присваиватели\n",
    "a=1\n",
    "a=a+1\n",
    "a+=1\n",
    "print(a)\n",
    "a*=2\n",
    "print(a)\n",
    "a-=2\n",
    "print(a)\n",
    "a**=2\n",
    "print(a)\n",
    "a/=2\n",
    "print(a)\n",
    "a//=3\n",
    "print(a)\n",
    "a%=1.5\n",
    "print(a)\n",
    "\n",
    "stroka='text '\n",
    "stroka+='new '\n",
    "print(stroka)\n",
    "stroka*=3\n",
    "print(stroka)"
   ]
  },
  {
   "cell_type": "code",
   "execution_count": 45,
   "id": "49ccd81e",
   "metadata": {},
   "outputs": [
    {
     "name": "stdout",
     "output_type": "stream",
     "text": [
      "True\n",
      "False\n"
     ]
    },
    {
     "data": {
      "text/plain": [
       "3"
      ]
     },
     "execution_count": 45,
     "metadata": {},
     "output_type": "execute_result"
    }
   ],
   "source": [
    "#6. Операторы принадлежности\n",
    "print('e' in 'hello')\n",
    "print('n' in 'hello')\n",
    "3"
   ]
  },
  {
   "cell_type": "code",
   "execution_count": 49,
   "id": "ab0ec546",
   "metadata": {},
   "outputs": [
    {
     "name": "stdout",
     "output_type": "stream",
     "text": [
      "140735778530248\n",
      "140735778530248\n",
      "2053701808880\n",
      "2053701808784\n",
      "True\n",
      "False\n"
     ]
    }
   ],
   "source": [
    "#7. Операторы идентичности\n",
    "# is, is not\n",
    "b=2\n",
    "print(id(b))\n",
    "c=2\n",
    "print(id(c))\n",
    "d=301\n",
    "print(id(d))\n",
    "e=301\n",
    "print(id(e))\n",
    "\n",
    "print(b is c)\n",
    "print(d is e)"
   ]
  }
 ],
 "metadata": {
  "kernelspec": {
   "display_name": "Python 3",
   "language": "python",
   "name": "python3"
  },
  "language_info": {
   "codemirror_mode": {
    "name": "ipython",
    "version": 3
   },
   "file_extension": ".py",
   "mimetype": "text/x-python",
   "name": "python",
   "nbconvert_exporter": "python",
   "pygments_lexer": "ipython3",
   "version": "3.13.3"
  }
 },
 "nbformat": 4,
 "nbformat_minor": 5
}
