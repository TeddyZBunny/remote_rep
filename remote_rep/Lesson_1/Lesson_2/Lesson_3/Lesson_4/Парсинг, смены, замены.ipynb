{
 "cells": [
  {
   "cell_type": "code",
   "execution_count": null,
   "id": "6ee3276d",
   "metadata": {},
   "outputs": [
    {
     "name": "stdout",
     "output_type": "stream",
     "text": [
      "2 3 1 5\n",
      "\n",
      "Распаковка\n",
      "1 5 2\n",
      "\n",
      "Срез\n",
      "1 5\n",
      "\n",
      "[564, 64, 23]\n",
      "[1, 3, 46, 465, 564, 64, 23]\n",
      "[564, 64, 23, 32, 23]\n",
      "[3, 465, 64, 32]\n",
      "[23, 32, 23, 64, 564, 465, 46, 3, 1]\n",
      "[32, 23, 64, 564, 465, 46, 3]\n"
     ]
    }
   ],
   "source": [
    "list1 = [1,5,2]\n",
    "tuple = (2,3,7) #В кортеже нельзя добавлять и менять местами объекты\n",
    "\n",
    "somel1 = list1[0]\n",
    "somel2 = list1[1]\n",
    "somel3 = list1[2]\n",
    "\n",
    "somet1 = tuple[0]\n",
    "somet2 = tuple[1]\n",
    "somet3 = tuple[2]\n",
    "\n",
    "print(somet1,somet2, somel1, somel2)\n",
    "\n",
    "print()\n",
    "#Распаковка \n",
    "print(\"Распаковка\")\n",
    "a, b, c = list1\n",
    "print(a,b,c)\n",
    "\n",
    "print()\n",
    "# Срез\n",
    "print (\"Срез\")\n",
    "print (a,b)\n",
    "\n",
    "print()\n",
    "mylist=[1,3,46,465,564,64,23,32,23]\n",
    "print(mylist[4:7])\n",
    "print(mylist[:7])\n",
    "print(mylist[4:])\n",
    "print(mylist[1::2])\n",
    "print(mylist[::-1])\n",
    "print(mylist[-2:-9:-1])"
   ]
  },
  {
   "cell_type": "code",
   "execution_count": null,
   "id": "61c4137d",
   "metadata": {},
   "outputs": [
    {
     "name": "stdout",
     "output_type": "stream",
     "text": [
      "\n",
      "Операции со строками\n",
      "12\n",
      "1\n",
      "7\n",
      "my own\n",
      "\n",
      "True\n",
      "True\n"
     ]
    }
   ],
   "source": [
    "\n",
    "print()\n",
    "print('Операции со строками')\n",
    "mystr='my own example'\n",
    "print(mystr.index('l'))\n",
    "print(mystr.count('exa')) #Выводит сколько нашел и -1, если не найдет\n",
    "print(mystr.find('exa')) #Выводит в каком индексу он нашел и -1, если не найдет\n",
    "print(mystr[:6])\n",
    "\n",
    "print()\n",
    "print(mystr.startswith('my')) # Начинается и заканчивается ли текст с определенных символов\n",
    "print(mystr.endswith('le'))"
   ]
  },
  {
   "cell_type": "code",
   "execution_count": null,
   "id": "9c7b359e",
   "metadata": {},
   "outputs": [
    {
     "name": "stdout",
     "output_type": "stream",
     "text": [
      "\n",
      "This text sometimes big sometimes low\n",
      "This Text Sometimes Big Sometimes Low\n",
      "THIS TEXT SOMETIMES BIG SOMETIMES LOW\n",
      "this text sometimes big sometimes low\n",
      "\n",
      "THIS text sometimes big sometimes low\n"
     ]
    }
   ],
   "source": [
    "print()\n",
    "regtxt='thiS TeXt sometimeS Big sometimEs LOw'\n",
    "print(regtxt.capitalize())\n",
    "print(regtxt.title())\n",
    "print(regtxt.upper())\n",
    "print(regtxt.lower())\n",
    "myindex = regtxt.lower().index('this')\n",
    "\n",
    "print()\n",
    "findidex=myindex+len(\"this\")\n",
    "print(regtxt[:findidex].upper() + regtxt[findidex:].lower())\n",
    "#print(regtxt[:myindex)])"
   ]
  },
  {
   "cell_type": "code",
   "execution_count": null,
   "id": "bd6b22f4",
   "metadata": {},
   "outputs": [
    {
     "name": "stdout",
     "output_type": "stream",
     "text": [
      "Замена символов\n",
      "Hello world\n",
      "\n",
      "te-xt -\n",
      "te-xt _\n"
     ]
    }
   ],
   "source": [
    "print('Замена символов')\n",
    "msg='Hello word'\n",
    "msg=msg.replace('word','world') # Если мы хотим что то изменить в строке, мы должны ее сначала переназначить \n",
    "print (msg)\n",
    "\n",
    "print()\n",
    "ms=\" text - \"\n",
    "print(ms.strip()) #Просто стрип убирает все пробелы слева и справа, lstrip(),rstrip() - слева, справа\n",
    "ms1=ms.strip()\n",
    "print(ms1.strip('-')+ '_') # Также можно убрать только опрделенный символ в строке по краям\n"
   ]
  },
  {
   "cell_type": "code",
   "execution_count": null,
   "id": "82bf28a7",
   "metadata": {},
   "outputs": [
    {
     "name": "stdout",
     "output_type": "stream",
     "text": [
      "['this', 'is', 'some', 'text']\n",
      "['this', 'is', 'some', 'text']\n"
     ]
    }
   ],
   "source": [
    "#Из строки в коллекцию\n",
    "mystr = 'this is some text'\n",
    "mystr1 = 'this,is,some,text'\n",
    "list_from_mystr = mystr.split() #Разнесет текст по разделителям, если не указвыаьт по пробелам.\n",
    "list_from_mystr1 = mystr1.split(',')\n",
    "print(list_from_mystr)\n",
    "print(list_from_mystr1)\n",
    "\n"
   ]
  },
  {
   "cell_type": "code",
   "execution_count": null,
   "id": "97805f3c",
   "metadata": {},
   "outputs": [
    {
     "name": "stdout",
     "output_type": "stream",
     "text": [
      "Java, Rubi, Go, Python\n"
     ]
    }
   ],
   "source": [
    "# Massive\n",
    "\n",
    "mycollection = ['Java','Rubi','Go','Python']\n",
    "mycol = mycollection\n",
    "mycol=', '.join(mycol)\n",
    "print(mycol)"
   ]
  },
  {
   "cell_type": "code",
   "execution_count": null,
   "id": "37507ee6",
   "metadata": {},
   "outputs": [
    {
     "name": "stdout",
     "output_type": "stream",
     "text": [
      "First is first, second is second\n",
      "\n",
      "First is first, second is second\n",
      "\n",
      "First is first, second is second\n",
      "\n",
      "First is second, second is first\n"
     ]
    }
   ],
   "source": [
    "# String formatting\n",
    "\n",
    "a = 'first'\n",
    "b = 'second'\n",
    "print ('First is ' + a + ', second is ' + b) # Bad choice, can make some troubles during sum inside print\n",
    "\n",
    "print()\n",
    "my_text = 'First is %s, second is %s' \n",
    "print (my_text % (a,b)) # Old variation - not actual in current time on projects, but possible\n",
    "\n",
    "print()\n",
    "my_text1 = 'First is {}, second is {}' # Not recommendet format of visualization\n",
    "print(my_text1.format(a,b))\n",
    "\n",
    "print()\n",
    "my_text1 = 'First is {1}, second is {0}' \n",
    "print(my_text1.format(a,b))"
   ]
  }
 ],
 "metadata": {
  "language_info": {
   "name": "python"
  }
 },
 "nbformat": 4,
 "nbformat_minor": 5
}
