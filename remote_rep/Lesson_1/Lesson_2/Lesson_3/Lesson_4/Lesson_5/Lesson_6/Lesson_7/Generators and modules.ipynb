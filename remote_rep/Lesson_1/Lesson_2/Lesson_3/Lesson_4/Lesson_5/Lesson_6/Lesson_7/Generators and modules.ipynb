{
 "cells": [
  {
   "cell_type": "code",
   "execution_count": 32,
   "id": "cba6f62a",
   "metadata": {},
   "outputs": [
    {
     "name": "stdout",
     "output_type": "stream",
     "text": [
      "Text about error:back in DB\n",
      "Text about error:front in form\n"
     ]
    }
   ],
   "source": [
    "def gen_text(**kwargs):\n",
    "    for type, place in kwargs.items():\n",
    "        print (f'Text about error:{type} in {place}')\n",
    "gen_text(back='DB',front='form')\n",
    "\n"
   ]
  },
  {
   "cell_type": "code",
   "execution_count": 28,
   "id": "83296beb",
   "metadata": {},
   "outputs": [
    {
     "name": "stdout",
     "output_type": "stream",
     "text": [
      "Product IPHONE have price:1000\n"
     ]
    }
   ],
   "source": [
    "def pricelist1(**kwargs):\n",
    "    for product in kwargs.items(): # Итемы печаатет все ключ значения кортежа\n",
    "        title,price=product\n",
    "    print(f'Product {title.upper()} have price:{price}')\n",
    "    \n",
    "pricelist1 (iphone=1000)    "
   ]
  },
  {
   "cell_type": "markdown",
   "id": "e28cd201",
   "metadata": {},
   "source": [
    "В генераторах не используются return"
   ]
  },
  {
   "cell_type": "code",
   "execution_count": 38,
   "id": "9e9f7684",
   "metadata": {},
   "outputs": [
    {
     "name": "stdout",
     "output_type": "stream",
     "text": [
      "[1, 3, 5, 7]\n"
     ]
    }
   ],
   "source": [
    "empl_list=['Aleksey','Alexey', 'Lena', 'Yura']\n",
    "\n",
    "def func(limit=10):\n",
    "    a=2\n",
    "    num=1\n",
    "    counter=1\n",
    "    while counter<limit:\n",
    "        yield num # tield - используется для создания генераторов, которые возвращают значения по одному, сохраняя при этом состояние функции)\n",
    "        num+=a\n",
    "        counter+=1\n",
    "        \n",
    "print(list(func(5)))"
   ]
  }
 ],
 "metadata": {
  "kernelspec": {
   "display_name": "Python 3",
   "language": "python",
   "name": "python3"
  },
  "language_info": {
   "codemirror_mode": {
    "name": "ipython",
    "version": 3
   },
   "file_extension": ".py",
   "mimetype": "text/x-python",
   "name": "python",
   "nbconvert_exporter": "python",
   "pygments_lexer": "ipython3",
   "version": "3.13.3"
  }
 },
 "nbformat": 4,
 "nbformat_minor": 5
}
