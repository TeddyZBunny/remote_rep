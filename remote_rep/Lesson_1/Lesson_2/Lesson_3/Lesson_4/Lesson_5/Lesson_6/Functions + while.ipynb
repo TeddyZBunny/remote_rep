{
 "cells": [
  {
   "cell_type": "code",
   "execution_count": 3,
   "id": "9eed0ae4",
   "metadata": {},
   "outputs": [
    {
     "name": "stdout",
     "output_type": "stream",
     "text": [
      "46\n"
     ]
    }
   ],
   "source": [
    "a=1\n",
    "b=2\n",
    "c=4\n",
    "d=8\n",
    "e=7\n",
    "num_for_sum=45\n",
    "\n",
    "def sum(x):\n",
    "    print(x + num_for_sum)\n",
    "    \n",
    "sum(a)"
   ]
  },
  {
   "cell_type": "code",
   "execution_count": 16,
   "id": "e9b63cdd",
   "metadata": {},
   "outputs": [
    {
     "name": "stdout",
     "output_type": "stream",
     "text": [
      "It was not number\n"
     ]
    }
   ],
   "source": [
    "def summ():\n",
    "    printed_num=input('Input your number:')\n",
    "    while printed_num.isdigit():\n",
    "        a = int(printed_num) +35\n",
    "        print(a)\n",
    "        break\n",
    "    else:\n",
    "        print('It was not number')\n",
    "\n",
    "summ()"
   ]
  }
 ],
 "metadata": {
  "kernelspec": {
   "display_name": "Python 3",
   "language": "python",
   "name": "python3"
  },
  "language_info": {
   "codemirror_mode": {
    "name": "ipython",
    "version": 3
   },
   "file_extension": ".py",
   "mimetype": "text/x-python",
   "name": "python",
   "nbconvert_exporter": "python",
   "pygments_lexer": "ipython3",
   "version": "3.13.3"
  }
 },
 "nbformat": 4,
 "nbformat_minor": 5
}
