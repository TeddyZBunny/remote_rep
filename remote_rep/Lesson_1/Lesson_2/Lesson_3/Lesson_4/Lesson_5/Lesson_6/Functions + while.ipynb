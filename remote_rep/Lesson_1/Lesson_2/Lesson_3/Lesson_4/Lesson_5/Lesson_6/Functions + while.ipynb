{
 "cells": [
  {
   "cell_type": "code",
   "execution_count": 3,
   "id": "9eed0ae4",
   "metadata": {},
   "outputs": [
    {
     "name": "stdout",
     "output_type": "stream",
     "text": [
      "46\n"
     ]
    }
   ],
   "source": [
    "a=1\n",
    "b=2\n",
    "c=4\n",
    "d=8\n",
    "e=7\n",
    "num_for_sum=45\n",
    "\n",
    "def sum(x):\n",
    "    print(x + num_for_sum)\n",
    "    \n",
    "sum(a)"
   ]
  },
  {
   "cell_type": "code",
   "execution_count": null,
   "id": "e9b63cdd",
   "metadata": {},
   "outputs": [
    {
     "name": "stdout",
     "output_type": "stream",
     "text": [
      "It was not number\n"
     ]
    }
   ],
   "source": [
    "def summ():\n",
    "    printed_num=input('Input your number:')\n",
    "    while printed_num.isdigit():\n",
    "        a = int(printed_num) +35\n",
    "        print(a)\n",
    "        break\n",
    "    else:\n",
    "        print('It was not number')\n",
    "\n",
    "summ()"
   ]
  },
  {
   "cell_type": "code",
   "execution_count": 3,
   "id": "4eaa0d46",
   "metadata": {},
   "outputs": [
    {
     "name": "stdout",
     "output_type": "stream",
     "text": [
      "The first word is 1, the secon word is 2, then 3\n",
      "The first word is 1, the secon word is 2, then 3\n"
     ]
    }
   ],
   "source": [
    "def printing_words(first,second,third):\n",
    "    print(f'The first word is {first}, the secon word is {second}, then {third}')\n",
    "    \n",
    "printing_words(1,2,3)\n",
    "printing_words(second = 2, first=1, third =3)"
   ]
  },
  {
   "cell_type": "code",
   "execution_count": null,
   "id": "1431a23d",
   "metadata": {},
   "outputs": [
    {
     "name": "stdout",
     "output_type": "stream",
     "text": [
      "9\n",
      "27\n"
     ]
    }
   ],
   "source": [
    "def power(number, degree=2):\n",
    "    return number**degree\n",
    "print(power(3))\n",
    "print(power(3,3))\n"
   ]
  },
  {
   "cell_type": "code",
   "execution_count": null,
   "id": "70581090",
   "metadata": {},
   "outputs": [
    {
     "name": "stdout",
     "output_type": "stream",
     "text": [
      "1 2 ашки Не указали ашки, но указали бешки\n"
     ]
    }
   ],
   "source": [
    "def ex(a,b,aa='ашки',bb='бешки'):\n",
    "    print(a,b,aa,bb)\n",
    "    \n",
    "ex(1,2,bb='Не указали ашки, но указали бешки')    \n",
    "#Но если мы внесли, что-то позиционно, то все аргументы после идут позиционно именнованными\n"
   ]
  },
  {
   "cell_type": "code",
   "execution_count": 18,
   "id": "72f556ae",
   "metadata": {},
   "outputs": [
    {
     "name": "stdout",
     "output_type": "stream",
     "text": [
      "18\n"
     ]
    }
   ],
   "source": [
    "def sum_all(*args): # You can add any numbers of arguments;\n",
    "    return sum(args)\n",
    "\n",
    "print(sum_all(3,4,2,4,2,3))"
   ]
  },
  {
   "cell_type": "code",
   "execution_count": 23,
   "id": "7891704a",
   "metadata": {},
   "outputs": [
    {
     "name": "stdout",
     "output_type": "stream",
     "text": [
      "Product IPHONE have price:1000$\n",
      "Product IPAD have price:2000\n"
     ]
    }
   ],
   "source": [
    "def pricelist(title,price):\n",
    "    print(f'Product {title.upper()} have price:{price}')\n",
    "    \n",
    "pricelist('iphone','1000$')\n",
    "\n",
    "def pricelist1(**kwargs):\n",
    "    for product in kwargs.items(): # Итемы печаатет все ключ значения кортежа\n",
    "        title,price=product\n",
    "    print(f'Product {title.upper()} have price:{price}')\n",
    "    \n",
    "pricelist1(iphone=1000,ipad=2000)"
   ]
  },
  {
   "cell_type": "markdown",
   "id": "29a21b9a",
   "metadata": {},
   "source": [
    "return result в конце функции будет возвращать, то что внутри нее.\n",
    "Лучше не принтить внутри функции, а значение ставить в резалт, и потом принтить результат функции\n",
    "Если в функции нет return - это значит в ней лежит return None\n",
    "\n",
    "типа\n",
    "print sum(a):\n",
    "\n",
    "continue - в цикле пропустит следующее условие\n",
    "pass - пропустит"
   ]
  }
 ],
 "metadata": {
  "kernelspec": {
   "display_name": "Python 3",
   "language": "python",
   "name": "python3"
  },
  "language_info": {
   "codemirror_mode": {
    "name": "ipython",
    "version": 3
   },
   "file_extension": ".py",
   "mimetype": "text/x-python",
   "name": "python",
   "nbconvert_exporter": "python",
   "pygments_lexer": "ipython3",
   "version": "3.13.3"
  }
 },
 "nbformat": 4,
 "nbformat_minor": 5
}
