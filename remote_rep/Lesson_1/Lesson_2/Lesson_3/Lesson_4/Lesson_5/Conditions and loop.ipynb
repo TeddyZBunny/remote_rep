{
 "cells": [
  {
   "cell_type": "code",
   "execution_count": null,
   "id": "3d073cf0",
   "metadata": {},
   "outputs": [
    {
     "name": "stdout",
     "output_type": "stream",
     "text": [
      "You are imputed not number dumbass (:\n"
     ]
    }
   ],
   "source": [
    "#Условия\n",
    "\n",
    "user_input = input('Your number is ')\n",
    "\n",
    "\n",
    "if user_input.isnumeric():\n",
    "    \n",
    "    \n",
    "    user_input = int(user_input)\n",
    "    \n",
    "    if user_input == 1:\n",
    "        print ('It was 1')\n",
    "    elif user_input == 2:\n",
    "        print ('It was 2')\n",
    "    else :\n",
    "        print ('It was any another')\n",
    "        \n",
    "        \n",
    "else:\n",
    "    print('You are imputed not number dumbass (:')\n"
   ]
  },
  {
   "cell_type": "code",
   "execution_count": 9,
   "id": "fcf27fb2",
   "metadata": {},
   "outputs": [
    {
     "name": "stdout",
     "output_type": "stream",
     "text": [
      "Mr. AntonGandon\n",
      "Faer\n",
      "Dimka\n",
      "Moris\n",
      "Mr. Art\n",
      "YaLegenda\n",
      "IlyuhaMadBaza\n",
      "\n",
      "Mr. AntonGandon\n",
      "Faer\n",
      "Dimka\n",
      "Moris\n",
      "Mr. Art\n",
      "YaLegenda\n",
      "IlyuhaMadBaza\n"
     ]
    }
   ],
   "source": [
    "#Циклы\n",
    "\n",
    "names = ['AntonGandon', 'Faer', 'Dimka', 'Moris', 'Art', 'YaLegenda', 'IlyuhaMadBaza' ]\n",
    "\n",
    "#1\n",
    "for some_name in names:\n",
    "    if some_name.startswith('A'):\n",
    "        print('Mr. ' + some_name )\n",
    "    elif not some_name.startswith('A'):\n",
    "        print(some_name) \n",
    "     \n",
    "#2 \n",
    "\n",
    "print()    \n",
    "for some_name in names:\n",
    "    if some_name.startswith('A'):\n",
    "        print('Mr. ', end='')\n",
    "    print(some_name) \n",
    "        "
   ]
  },
  {
   "cell_type": "code",
   "execution_count": 15,
   "id": "88bbb1f5",
   "metadata": {},
   "outputs": [
    {
     "name": "stdout",
     "output_type": "stream",
     "text": [
      "dict_keys(['AntonGandon', 'Faer', 'Dimka', 'Moris', 'Art', 'YaLegenda', 'IlyuhaMadBaza'])\n",
      "\n",
      "AntonGandon\n",
      "Faer\n",
      "Dimka\n",
      "Moris\n",
      "Art\n",
      "YaLegenda\n",
      "IlyuhaMadBaza\n",
      "\n",
      "Rizhiy\n",
      "Brunet\n",
      "Chmo\n",
      "Brunet\n",
      "Brunet\n",
      "Brunet\n",
      "Brunet\n"
     ]
    }
   ],
   "source": [
    "coll = {'AntonGandon':'Rizhiy', 'Faer':'Brunet', 'Dimka': 'Chmo', 'Moris':'Brunet', 'Art':'Brunet', 'YaLegenda':'Brunet', 'IlyuhaMadBaza':'Brunet' }\n",
    "print(coll.keys())\n",
    "\n",
    "print()\n",
    "for daun in coll.keys():\n",
    "    print(daun) \n",
    "    \n",
    "print()\n",
    "for daun in coll.values():\n",
    "    print(daun) "
   ]
  },
  {
   "cell_type": "code",
   "execution_count": 25,
   "id": "f5b6742f",
   "metadata": {},
   "outputs": [
    {
     "name": "stdout",
     "output_type": "stream",
     "text": [
      "AntonGandon - Rizhiy\n",
      "Faer - Brunet\n",
      "Dimka - Chmo\n",
      "Moris - Brunet\n",
      "Art - Brunet\n",
      "YaLegenda - Brunet\n",
      "IlyuhaMadBaza - Brunet\n",
      "\n",
      "AntonGandon:Rizhiy\n",
      "Faer:Brunet\n",
      "Dimka:Chmo\n",
      "Moris:Brunet\n",
      "Art:Brunet\n",
      "YaLegenda:Brunet\n",
      "IlyuhaMadBaza:Brunet\n"
     ]
    }
   ],
   "source": [
    "1#\n",
    "coll = {'AntonGandon':'Rizhiy', 'Faer':'Brunet', 'Dimka': 'Chmo', 'Moris':'Brunet', 'Art':'Brunet', 'YaLegenda':'Brunet', 'IlyuhaMadBaza':'Brunet' }\n",
    "for pers in coll:\n",
    "    print(pers+ \" - \" +coll[pers])\n",
    "\n",
    "2#\n",
    "print()\n",
    "for pers in coll:\n",
    "    print(f'{pers}: {coll[pers]}')"
   ]
  },
  {
   "cell_type": "code",
   "execution_count": 31,
   "id": "8f7d56f3",
   "metadata": {},
   "outputs": [
    {
     "name": "stdout",
     "output_type": "stream",
     "text": [
      "dict_items([('AntonGandon', 'Rizhiy'), ('Faer', 'Brunet'), ('Dimka', 'Chmo'), ('Moris', 'Brunet'), ('Art', 'Brunet'), ('YaLegenda', 'Brunet'), ('IlyuhaMadBaza', 'Brunet')])\n",
      "\n",
      "('AntonGandon', 'Rizhiy')\n",
      "('Faer', 'Brunet')\n",
      "('Dimka', 'Chmo')\n",
      "('Moris', 'Brunet')\n",
      "('Art', 'Brunet')\n",
      "('YaLegenda', 'Brunet')\n",
      "('IlyuhaMadBaza', 'Brunet')\n",
      "\n",
      "AntonGandon: Rizhiy\n",
      "Faer: Brunet\n",
      "Dimka: Chmo\n",
      "Moris: Brunet\n",
      "Art: Brunet\n",
      "YaLegenda: Brunet\n",
      "IlyuhaMadBaza: Brunet\n"
     ]
    }
   ],
   "source": [
    "#Cortage output from dictionary\n",
    "coll = {'AntonGandon':'Rizhiy', 'Faer':'Brunet', 'Dimka': 'Chmo', 'Moris':'Brunet', 'Art':'Brunet', 'YaLegenda':'Brunet', 'IlyuhaMadBaza':'Brunet' }\n",
    "print (coll.items())\n",
    "\n",
    "print()\n",
    "for pers in coll.items():\n",
    "    print(pers)"
   ]
  },
  {
   "cell_type": "code",
   "execution_count": 32,
   "id": "a336a86f",
   "metadata": {},
   "outputs": [
    {
     "name": "stdout",
     "output_type": "stream",
     "text": [
      "AntonGandon: Rizhiy\n",
      "Faer: Brunet\n",
      "Dimka: Chmo\n",
      "Moris: Brunet\n",
      "Art: Brunet\n",
      "YaLegenda: Brunet\n",
      "IlyuhaMadBaza: Brunet\n",
      "\n",
      "AntonGandon: Rizhiy\n",
      "Faer: Brunet\n",
      "Dimka: Chmo\n",
      "Moris: Brunet\n",
      "Art: Brunet\n",
      "YaLegenda: Brunet\n",
      "IlyuhaMadBaza: Brunet\n"
     ]
    }
   ],
   "source": [
    "#Unpacking\n",
    "for pers in coll.items():\n",
    "    name, hair_colour = pers\n",
    "    print(f'{name}: {hair_colour}')\n",
    "    \n",
    "print()\n",
    "for name, hair_colour in coll.items():\n",
    "    print(f'{name}: {hair_colour}')"
   ]
  },
  {
   "cell_type": "code",
   "execution_count": null,
   "id": "4273e88d",
   "metadata": {},
   "outputs": [
    {
     "name": "stdout",
     "output_type": "stream",
     "text": [
      "Sed vitae justo malesuada commodo libero eu bibendum mauris\n",
      "['Sed', 'vitae', 'justo', 'malesuada', 'commodo', 'libero', 'eu', 'bibendum', 'mauris']\n",
      "\n",
      "justo commodo libero \n",
      "Sed vitae malesuada eu bibendum mauris "
     ]
    }
   ],
   "source": [
    "#распечатать слова, в которых есть буква \"о\" и выбросить из текста - текст в конце распечатать\n",
    "text  = 'Sed vitae justo malesuada, commodo libero eu, bibendum mauris.'\n",
    "text_clear1=text.replace('.','')\n",
    "text_clear=text_clear1.replace(',','')\n",
    "print(text_clear)\n",
    "splited = text_clear.split()\n",
    "print(splited)\n",
    "print()\n",
    "\n",
    "for i, word in enumerate(splited):\n",
    "    if 'o' in word.lower():\n",
    "        print(splited[i], end=' ')\n",
    "\n",
    "print()\n",
    "for iw, word in enumerate(splited):\n",
    "    if 'o' not in word.lower():\n",
    "        print(splited[iw], end=' ')\n",
    "        "
   ]
  },
  {
   "cell_type": "code",
   "execution_count": null,
   "id": "6e486ce9",
   "metadata": {},
   "outputs": [
    {
     "name": "stdout",
     "output_type": "stream",
     "text": [
      "justo\n",
      "commodo\n",
      "libero\n",
      "Sed vitae malesuada, eu, bibendum mauris.\n"
     ]
    }
   ],
   "source": [
    "#распечатать слова, в которых есть буква \"о\" и выбросить из текста - текст в конце распечатать\n",
    "text  = 'Sed vitae justo malesuada, commodo libero eu, bibendum mauris.'\n",
    "\n",
    "splited = text.split()\n",
    "owords=[]\n",
    "\n",
    "# If word include \"o\", then it prints, if not, it adds in new array 'owords'\n",
    "for oword in splited:\n",
    "    if 'o' in oword:\n",
    "           print(oword)\n",
    "    else:\n",
    "            owords.append(oword)       \n",
    "print(' '.join(owords)) #We can make from array - list due join  \n"
   ]
  }
 ],
 "metadata": {
  "kernelspec": {
   "display_name": "Python 3",
   "language": "python",
   "name": "python3"
  },
  "language_info": {
   "codemirror_mode": {
    "name": "ipython",
    "version": 3
   },
   "file_extension": ".py",
   "mimetype": "text/x-python",
   "name": "python",
   "nbconvert_exporter": "python",
   "pygments_lexer": "ipython3",
   "version": "3.13.3"
  }
 },
 "nbformat": 4,
 "nbformat_minor": 5
}
