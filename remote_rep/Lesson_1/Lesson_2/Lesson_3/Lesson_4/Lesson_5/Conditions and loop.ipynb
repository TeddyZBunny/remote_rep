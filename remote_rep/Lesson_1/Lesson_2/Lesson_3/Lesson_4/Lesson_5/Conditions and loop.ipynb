{
 "cells": [
  {
   "cell_type": "code",
   "execution_count": null,
   "id": "3d073cf0",
   "metadata": {},
   "outputs": [
    {
     "name": "stdout",
     "output_type": "stream",
     "text": [
      "You are imputed not number dumbass (:\n"
     ]
    }
   ],
   "source": [
    "#Условия\n",
    "\n",
    "user_input = input('Your number is ')\n",
    "\n",
    "\n",
    "if user_input.isnumeric():\n",
    "    \n",
    "    \n",
    "    user_input = int(user_input)\n",
    "    \n",
    "    if user_input == 1:\n",
    "        print ('It was 1')\n",
    "    elif user_input == 2:\n",
    "        print ('It was 2')\n",
    "    else :\n",
    "        print ('It was any another')\n",
    "        \n",
    "        \n",
    "else:\n",
    "    print('You are imputed not number dumbass (:')\n"
   ]
  },
  {
   "cell_type": "code",
   "execution_count": null,
   "id": "fcf27fb2",
   "metadata": {},
   "outputs": [
    {
     "name": "stdout",
     "output_type": "stream",
     "text": [
      "AntonGandon\n",
      "Faer\n",
      "Dimka\n",
      "Moris\n",
      "Art\n",
      "YaLegenda\n",
      "IlyuhaMadBaza\n"
     ]
    }
   ],
   "source": [
    "#Циклы\n",
    "\n",
    "names = ['AntonGandon', 'Faer', 'Dimka', 'Moris', 'Art', 'YaLegenda', 'IlyuhaMadBaza' ]\n",
    "\n",
    "for some_name in names:\n",
    "    print(some_name) \n",
    "    \n",
    "    #dfasfsdfds"
   ]
  }
 ],
 "metadata": {
  "language_info": {
   "name": "python"
  }
 },
 "nbformat": 4,
 "nbformat_minor": 5
}
