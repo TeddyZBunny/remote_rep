{
 "cells": [
  {
   "cell_type": "markdown",
   "id": "1b475410",
   "metadata": {},
   "source": [
    "    СПОСОБЫ ВВОДНА ДАННЫХ\n",
    "1. Клавиатура\n",
    "2. Чтение из файла  \n",
    "3. База данных\n",
    "4. API  \n"
   ]
  },
  {
   "cell_type": "code",
   "execution_count": null,
   "id": "bdcb69c5",
   "metadata": {},
   "outputs": [],
   "source": [
    "#1. Ввод с клавиатуры\n",
    "\n",
    "input(\"What will happens?\")"
   ]
  },
  {
   "cell_type": "code",
   "execution_count": 6,
   "id": "50d5d45c",
   "metadata": {},
   "outputs": [
    {
     "name": "stdout",
     "output_type": "stream",
     "text": [
      "asdf text  !1,\n"
     ]
    }
   ],
   "source": [
    "\n",
    "result_of_inputing=input(\"What will happens?\")\n",
    "print(result_of_inputing, 'text ', '!1,')"
   ]
  }
 ],
 "metadata": {
  "kernelspec": {
   "display_name": "Python 3",
   "language": "python",
   "name": "python3"
  },
  "language_info": {
   "codemirror_mode": {
    "name": "ipython",
    "version": 3
   },
   "file_extension": ".py",
   "mimetype": "text/x-python",
   "name": "python",
   "nbconvert_exporter": "python",
   "pygments_lexer": "ipython3",
   "version": "3.13.3"
  }
 },
 "nbformat": 4,
 "nbformat_minor": 5
}
